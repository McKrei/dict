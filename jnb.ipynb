{
 "cells": [
  {
   "cell_type": "code",
   "execution_count": 1,
   "metadata": {},
   "outputs": [],
   "source": [
    "import sqlite3\n",
    "\n",
    "db = sqlite3.connect('word.db')\n",
    "cursor = db.cursor()"
   ]
  },
  {
   "cell_type": "code",
   "execution_count": 20,
   "metadata": {},
   "outputs": [],
   "source": [
    "def one_line(dict_, count, line):\n",
    "    line = line.strip().lower().split()\n",
    "    if line:\n",
    "        for word in line:\n",
    "            if (word.isalpha()) and (len(word) > 2) and (word != 'count'):\n",
    "                dict_[word] = dict_.setdefault(word, 0) +1\n",
    "        count += 1\n",
    "    return dict_, count\n",
    "\n",
    "def write_db(dic):\n",
    "    for key, val in dic.items():\n",
    "        cursor.execute(f'SELECT count FROM word WHERE word_en = \"{key}\"')\n",
    "        sum_ = cursor.fetchone()\n",
    "        if sum_:\n",
    "            cursor.execute(f'UPDATE word SET count = {val + sum_[0]} WHERE word_en = \"{key}\"')\n",
    "        else:\n",
    "            try:\n",
    "                cursor.execute(f'INSERT INTO word VALUES(\"{key}\",{val} )')\n",
    "            except Exception:\n",
    "                print(key, val)\n",
    "    db.commit()\n",
    "\n",
    "def create_dict():\n",
    "    book = 'Learning_Python.txt'\n",
    "    dict_ = {}\n",
    "    with open(book, 'r', encoding=\"utf-8\") as file:\n",
    "        count = 0\n",
    "        for line in file:\n",
    "            dict_, count = one_line(dict_, count, line)\n",
    "            if count == 1000:\n",
    "                write_db(dict_)\n",
    "                count = 0\n",
    "        write_db(dict_)\n",
    "    return dict_\n",
    "\n",
    "dict_ = create_dict()"
   ]
  },
  {
   "cell_type": "code",
   "execution_count": 22,
   "metadata": {},
   "outputs": [],
   "source": [
    "len(dict_)\n",
    "db.close()"
   ]
  }
 ],
 "metadata": {
  "interpreter": {
   "hash": "8f32d2f88e6f61f15648d0b3cf4777cdde90ddfb9f8334f49d33a9d152455ae8"
  },
  "kernelspec": {
   "display_name": "Python 3.8.10 64-bit ('venv': venv)",
   "language": "python",
   "name": "python3"
  },
  "language_info": {
   "codemirror_mode": {
    "name": "ipython",
    "version": 3
   },
   "file_extension": ".py",
   "mimetype": "text/x-python",
   "name": "python",
   "nbconvert_exporter": "python",
   "pygments_lexer": "ipython3",
   "version": "3.8.10"
  },
  "orig_nbformat": 4
 },
 "nbformat": 4,
 "nbformat_minor": 2
}
